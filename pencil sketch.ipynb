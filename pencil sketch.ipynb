%matplotlib inline

import cv2
from matplotlib import pyplot as plt
import cv2


img=cv2.imread(r'your image')#import ur imamge here
RGB_img = cv2.cvtColor(img, cv2.COLOR_BGR2RGB)
grey_img=cv2.cvtColor(img, cv2.COLOR_BGR2GRAY)
invert =cv2.bitwise_not(grey_img)
blur=cv2.GaussianBlur(invert,(111,111),0)
invertedblur= cv2.bitwise_not(blur)
sketch=cv2.divide(grey_img,invertedblur, scale=246.0)
cv2.imwrite("sketch.png",sketch)
img2=cv2.imread(r'sketch.png')

plt.subplot(1,2,1)
plt.title('Original image', size=18)
plt.imshow(RGB_img)
plt.axis('off')

plt.subplot(1,2,2)
plt.title('Sketch', size=18)
plt.imshow(img2)
plt.axis('off')
plt.show()
